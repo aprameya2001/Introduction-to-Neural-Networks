{
 "cells": [
  {
   "cell_type": "markdown",
   "metadata": {},
   "source": [
    "# A simple feedforward neural network"
   ]
  },
  {
   "cell_type": "markdown",
   "metadata": {},
   "source": [
    "This notebook will be used to code the simple feedforward neural network shown below:"
   ]
  },
  {
   "cell_type": "markdown",
   "metadata": {},
   "source": [
    "<img src = \"network.png\">"
   ]
  },
  {
   "cell_type": "code",
   "execution_count": 21,
   "metadata": {},
   "outputs": [],
   "source": [
    "import numpy as np\n",
    "import matplotlib.pyplot as plt"
   ]
  },
  {
   "cell_type": "code",
   "execution_count": 22,
   "metadata": {},
   "outputs": [],
   "source": [
    "# Activation function used: f(x) = 1 / (1 + e^(-x))\n",
    "\n",
    "def sigmoid(x):\n",
    "    return 1 / (1 + np.exp(-x))"
   ]
  },
  {
   "cell_type": "code",
   "execution_count": 23,
   "metadata": {},
   "outputs": [],
   "source": [
    "# Create a class to represnt a neuron\n",
    "class Neuron:\n",
    "    def __init__(self, weights, bias):\n",
    "        self.weights = weights\n",
    "        self.bias = bias\n",
    "        \n",
    "    def feedforward(self, inputs):\n",
    "        # output = sigmoid((inputs).(weights) + bias)\n",
    "        result = np.dot(self.weights, inputs) + self.bias\n",
    "        return sigmoid(result)"
   ]
  },
  {
   "cell_type": "code",
   "execution_count": 24,
   "metadata": {},
   "outputs": [
    {
     "name": "stdout",
     "output_type": "stream",
     "text": [
      "Output:  0.9990889488055994\n"
     ]
    }
   ],
   "source": [
    "# Checking Neuron class\n",
    "weights = np.array([0,1])\n",
    "bias = 4\n",
    "neuron1 = Neuron(weights, bias)\n",
    "x = np.array([2,3])\n",
    "print('Output: ', neuron1.feedforward(x))"
   ]
  },
  {
   "cell_type": "code",
   "execution_count": 25,
   "metadata": {},
   "outputs": [],
   "source": [
    "class neuralNetwork:\n",
    "    '''\n",
    "    This neural network contains\n",
    "    --> 2 inputs x1 and x2\n",
    "    --> A hidden layer with 2 neurons h1 and h2\n",
    "    --> An output layer with a single neuron o1\n",
    "    \n",
    "    Each neuron has the same weights and bias:\n",
    "    --> w = [0, 1]\n",
    "    --> b = 0 \n",
    "    '''\n",
    "    \n",
    "    def __init__(self):\n",
    "        # Weights and bias\n",
    "        weights = np.array([0,1])\n",
    "        bias = 0\n",
    "        \n",
    "        # Creating a neural network\n",
    "        self.h1 = Neuron(weights, bias)\n",
    "        self.h2 = Neuron(weights, bias)\n",
    "        self.o1 = Neuron(weights, bias)\n",
    "    \n",
    "    def feedforward(self, inputs):\n",
    "        # Output of h1 and h2\n",
    "        output_h1 = self.h1.feedforward(inputs)\n",
    "        output_h2 = self.h2.feedforward(inputs)\n",
    "        \n",
    "        # Final output (o1)\n",
    "        output_o1 = self.o1.feedforward(np.array([output_h1, output_h2]))\n",
    "        return output_o1"
   ]
  },
  {
   "cell_type": "code",
   "execution_count": 26,
   "metadata": {},
   "outputs": [
    {
     "name": "stdout",
     "output_type": "stream",
     "text": [
      "Output of created network: 0.7216325609518421\n"
     ]
    }
   ],
   "source": [
    "# Checking the neuralNetwork class\n",
    "\n",
    "network = neuralNetwork()\n",
    "x = np.array([2,3])\n",
    "out = network.feedforward(x)\n",
    "print('Output of created network:', out)"
   ]
  },
  {
   "cell_type": "code",
   "execution_count": 27,
   "metadata": {},
   "outputs": [
    {
     "name": "stdout",
     "output_type": "stream",
     "text": [
      "1.2099847715141283\n"
     ]
    }
   ],
   "source": [
    "print(np.random.normal())"
   ]
  },
  {
   "cell_type": "markdown",
   "metadata": {},
   "source": [
    "# Complete Neural Network"
   ]
  },
  {
   "cell_type": "markdown",
   "metadata": {},
   "source": [
    "This NN guesses the gender based on the input weight and height of a person"
   ]
  },
  {
   "cell_type": "markdown",
   "metadata": {},
   "source": [
    "<img src = 'image2.png'>"
   ]
  },
  {
   "cell_type": "code",
   "execution_count": 45,
   "metadata": {},
   "outputs": [],
   "source": [
    "import numpy as np"
   ]
  },
  {
   "cell_type": "code",
   "execution_count": 46,
   "metadata": {},
   "outputs": [],
   "source": [
    "def sigmoid(x):\n",
    "    # Sigmoid activation function: f(x) = 1 / (1 + e^(-x))\n",
    "    return 1 / (1 + np.exp(-x))"
   ]
  },
  {
   "cell_type": "code",
   "execution_count": 47,
   "metadata": {},
   "outputs": [],
   "source": [
    "def deriv_sigmoid(x):\n",
    "    # Derivative of sigmoid: f'(x) = f(x) * (1 - f(x))\n",
    "    fx = sigmoid(x)\n",
    "    return fx *(1-fx)"
   ]
  },
  {
   "cell_type": "code",
   "execution_count": 48,
   "metadata": {},
   "outputs": [],
   "source": [
    "def mse_loss(y_true, y_pred):\n",
    "    # Both y_true and y_pred are numpy arrays. y_true is the expected output and y_pred is the predicted output.\n",
    "    return ((y_true - y_pred) ** 2).mean()"
   ]
  },
  {
   "cell_type": "code",
   "execution_count": 49,
   "metadata": {},
   "outputs": [],
   "source": [
    "class NeuralNetwork():\n",
    "    '''\n",
    "    This neural network contains\n",
    "    --> 2 inputs x1 and x2\n",
    "    --> A hidden layer with 2 neurons h1 and h2\n",
    "    --> An output layer with a single neuron o1\n",
    "    \n",
    "    Each neuron has the different weights and bias:\n",
    "    '''\n",
    "    \n",
    "    def __init__(self):\n",
    "        # Weights- Randomly assigning the weights\n",
    "        self.w1 = np.random.normal()\n",
    "        self.w2 = np.random.normal()\n",
    "        self.w3 = np.random.normal()\n",
    "        self.w4 = np.random.normal()\n",
    "        self.w5 = np.random.normal()\n",
    "        self.w6 = np.random.normal()\n",
    "        \n",
    "        # Bias\n",
    "        self.b1 = np.random.normal()\n",
    "        self.b2 = np.random.normal()\n",
    "        self.b3 = np.random.normal()\n",
    "        \n",
    "    def feedforward(self, x):\n",
    "        # x is a numpy array: x[0] is weight(minus 135) and x[1] is height(minus 66)\n",
    "        h1 = sigmoid(self.w1 * x[0] + self.w2 * x[1] + self.b1)\n",
    "        h2 = sigmoid(self.w3 * x[0] + self.w4 * x[1] + self.b2)\n",
    "        o1 = sigmoid(self.w5 * h1 + self.w6 * h2 + self.b3)\n",
    "        return o1\n",
    "    \n",
    "    def train(self, data, all_y_trues):\n",
    "        '''\n",
    "        --> data is a (n x 2) numpy array, n = # of samples in the dataset. Each row contains 2 elements, weight and height of a person\n",
    "        --> all_y_trues is a numpy array with n elements. Each element is the expected gender: 0 (male) or 1 (female) \n",
    "        --> Elements in all_y_trues correspond to those in data.\n",
    "        '''\n",
    "        \n",
    "        learn_rate = 0.1\n",
    "        epochs = 1001 # number of times to loop through the entire dataset\n",
    "        loss_list = []\n",
    "        \n",
    "        for epoch in range(epochs):\n",
    "            for x, y_true in zip(data, all_y_trues):\n",
    "                h1_sum = self.w1 * x[0] + self.w2 * x[1] + self.b1\n",
    "                h1 = sigmoid(h1_sum)\n",
    "                \n",
    "                h2_sum = self.w3 * x[0] + self.w4 * x[1] + self.b2\n",
    "                h2 = sigmoid(h2_sum)\n",
    "                \n",
    "                o1_sum = self.w5 * h1 + self.w6 * h2 + self.b3\n",
    "                o1 = sigmoid(o1_sum)\n",
    "                y_pred= o1\n",
    "                \n",
    "                '''\n",
    "                Now we need to re- calculate the weights and biases in such a way that the loss decreases due to that change.\n",
    "                But for recalculating the new weights, we need dl/dw for each weight w.\n",
    "                The next steps will be used for that purpose \n",
    "                '''\n",
    "                \n",
    "                # --- Calculate partial derivatives.\n",
    "                # --- Naming: d_L_d_w1 represents \"partial L / partial w1\"\n",
    "                d_L_d_ypred = -2 * (y_true - y_pred)\n",
    "                \n",
    "                #  Neuron o1\n",
    "                d_ypred_d_w5 = h1 * deriv_sigmoid(o1_sum)\n",
    "                d_ypred_d_w6 = h2 * deriv_sigmoid(o1_sum)\n",
    "                d_ypred_d_b3 = deriv_sigmoid(o1_sum)\n",
    "                \n",
    "                d_ypred_d_h1 = self.w5 * deriv_sigmoid(o1_sum)\n",
    "                d_ypred_d_h2 = self.w6 * deriv_sigmoid(o1_sum)\n",
    "                \n",
    "                # Neuron h1\n",
    "                d_h1_d_w1 = x[0] * deriv_sigmoid(h1_sum)\n",
    "                d_h1_d_w2 = x[1] * deriv_sigmoid(h1_sum)\n",
    "                d_h1_d_b1= deriv_sigmoid(h1_sum)\n",
    "                \n",
    "                # Neuron h2\n",
    "                d_h2_d_w3 = x[0] * deriv_sigmoid(h2_sum)\n",
    "                d_h2_d_w4 = x[1] * deriv_sigmoid(h2_sum)\n",
    "                d_h2_d_b2= deriv_sigmoid(h2_sum)\n",
    "                \n",
    "                # --- After calculating the necessary derivatives we have to update the weights and biases\n",
    "                # Neuron h1\n",
    "                self.w1 -= learn_rate * d_L_d_ypred * d_ypred_d_h1 * d_h1_d_w1\n",
    "                self.w2 -= learn_rate * d_L_d_ypred * d_ypred_d_h1 * d_h1_d_w2\n",
    "                self.b1 -= learn_rate * d_L_d_ypred * d_ypred_d_h1 * d_h1_d_b1\n",
    "                \n",
    "                # Neuron h2\n",
    "                self.w3 -= learn_rate * d_L_d_ypred * d_ypred_d_h2 * d_h2_d_w3\n",
    "                self.w4 -= learn_rate * d_L_d_ypred * d_ypred_d_h2 * d_h2_d_w4\n",
    "                self.b2 -= learn_rate * d_L_d_ypred * d_ypred_d_h2 * d_h2_d_b2\n",
    "\n",
    "                # Neuron o1\n",
    "                self.w5 -= learn_rate * d_L_d_ypred * d_ypred_d_w5\n",
    "                self.w6 -= learn_rate * d_L_d_ypred * d_ypred_d_w6\n",
    "                self.b3 -= learn_rate * d_L_d_ypred * d_ypred_d_b3\n",
    "                \n",
    "            # Calculating the loss at the end of each epoch divisible by 10\n",
    "            if epoch % 10 == 0:\n",
    "                y_preds = np.apply_along_axis(self.feedforward, 1, data)\n",
    "                '''\n",
    "                np.apply_along_axis: Apply a function to 1-D slices along the given axis.\n",
    "                This will pass each 1-D row of data matrix into feedforward func. Output for each row will be stored in y_preds\n",
    "                '''\n",
    "                loss = mse_loss(all_y_trues, y_preds)\n",
    "                loss_list.append(loss)\n",
    "                print(\"Epoch %d loss: %.3f\" % (epoch, loss))\n",
    "                \n",
    "        return loss_list\n"
   ]
  },
  {
   "cell_type": "code",
   "execution_count": 50,
   "metadata": {},
   "outputs": [
    {
     "name": "stdout",
     "output_type": "stream",
     "text": [
      "Epoch 0 loss: 0.283\n",
      "Epoch 10 loss: 0.207\n",
      "Epoch 20 loss: 0.153\n",
      "Epoch 30 loss: 0.115\n",
      "Epoch 40 loss: 0.087\n",
      "Epoch 50 loss: 0.068\n",
      "Epoch 60 loss: 0.054\n",
      "Epoch 70 loss: 0.044\n",
      "Epoch 80 loss: 0.036\n",
      "Epoch 90 loss: 0.031\n",
      "Epoch 100 loss: 0.026\n",
      "Epoch 110 loss: 0.023\n",
      "Epoch 120 loss: 0.021\n",
      "Epoch 130 loss: 0.018\n",
      "Epoch 140 loss: 0.017\n",
      "Epoch 150 loss: 0.015\n",
      "Epoch 160 loss: 0.014\n",
      "Epoch 170 loss: 0.013\n",
      "Epoch 180 loss: 0.012\n",
      "Epoch 190 loss: 0.011\n",
      "Epoch 200 loss: 0.010\n",
      "Epoch 210 loss: 0.010\n",
      "Epoch 220 loss: 0.009\n",
      "Epoch 230 loss: 0.009\n",
      "Epoch 240 loss: 0.008\n",
      "Epoch 250 loss: 0.008\n",
      "Epoch 260 loss: 0.007\n",
      "Epoch 270 loss: 0.007\n",
      "Epoch 280 loss: 0.007\n",
      "Epoch 290 loss: 0.006\n",
      "Epoch 300 loss: 0.006\n",
      "Epoch 310 loss: 0.006\n",
      "Epoch 320 loss: 0.006\n",
      "Epoch 330 loss: 0.005\n",
      "Epoch 340 loss: 0.005\n",
      "Epoch 350 loss: 0.005\n",
      "Epoch 360 loss: 0.005\n",
      "Epoch 370 loss: 0.005\n",
      "Epoch 380 loss: 0.005\n",
      "Epoch 390 loss: 0.004\n",
      "Epoch 400 loss: 0.004\n",
      "Epoch 410 loss: 0.004\n",
      "Epoch 420 loss: 0.004\n",
      "Epoch 430 loss: 0.004\n",
      "Epoch 440 loss: 0.004\n",
      "Epoch 450 loss: 0.004\n",
      "Epoch 460 loss: 0.004\n",
      "Epoch 470 loss: 0.004\n",
      "Epoch 480 loss: 0.003\n",
      "Epoch 490 loss: 0.003\n",
      "Epoch 500 loss: 0.003\n",
      "Epoch 510 loss: 0.003\n",
      "Epoch 520 loss: 0.003\n",
      "Epoch 530 loss: 0.003\n",
      "Epoch 540 loss: 0.003\n",
      "Epoch 550 loss: 0.003\n",
      "Epoch 560 loss: 0.003\n",
      "Epoch 570 loss: 0.003\n",
      "Epoch 580 loss: 0.003\n",
      "Epoch 590 loss: 0.003\n",
      "Epoch 600 loss: 0.003\n",
      "Epoch 610 loss: 0.003\n",
      "Epoch 620 loss: 0.003\n",
      "Epoch 630 loss: 0.003\n",
      "Epoch 640 loss: 0.002\n",
      "Epoch 650 loss: 0.002\n",
      "Epoch 660 loss: 0.002\n",
      "Epoch 670 loss: 0.002\n",
      "Epoch 680 loss: 0.002\n",
      "Epoch 690 loss: 0.002\n",
      "Epoch 700 loss: 0.002\n",
      "Epoch 710 loss: 0.002\n",
      "Epoch 720 loss: 0.002\n",
      "Epoch 730 loss: 0.002\n",
      "Epoch 740 loss: 0.002\n",
      "Epoch 750 loss: 0.002\n",
      "Epoch 760 loss: 0.002\n",
      "Epoch 770 loss: 0.002\n",
      "Epoch 780 loss: 0.002\n",
      "Epoch 790 loss: 0.002\n",
      "Epoch 800 loss: 0.002\n",
      "Epoch 810 loss: 0.002\n",
      "Epoch 820 loss: 0.002\n",
      "Epoch 830 loss: 0.002\n",
      "Epoch 840 loss: 0.002\n",
      "Epoch 850 loss: 0.002\n",
      "Epoch 860 loss: 0.002\n",
      "Epoch 870 loss: 0.002\n",
      "Epoch 880 loss: 0.002\n",
      "Epoch 890 loss: 0.002\n",
      "Epoch 900 loss: 0.002\n",
      "Epoch 910 loss: 0.002\n",
      "Epoch 920 loss: 0.002\n",
      "Epoch 930 loss: 0.002\n",
      "Epoch 940 loss: 0.002\n",
      "Epoch 950 loss: 0.002\n",
      "Epoch 960 loss: 0.002\n",
      "Epoch 970 loss: 0.002\n",
      "Epoch 980 loss: 0.002\n",
      "Epoch 990 loss: 0.002\n",
      "Epoch 1000 loss: 0.002\n"
     ]
    }
   ],
   "source": [
    "# Define dataset\n",
    "data = np.array([\n",
    "  [-2, -1],  # Alice\n",
    "  [25, 6],   # Bob\n",
    "  [17, 4],   # Charlie\n",
    "  [-15, -6], # Diana\n",
    "])\n",
    "\n",
    "all_y_trues = np.array([\n",
    "  1, # Alice\n",
    "  0, # Bob\n",
    "  0, # Charlie\n",
    "  1, # Diana\n",
    "])\n",
    "\n",
    "# Train the neural network\n",
    "network = NeuralNetwork()\n",
    "losses = network.train(data, all_y_trues)"
   ]
  },
  {
   "cell_type": "code",
   "execution_count": 51,
   "metadata": {},
   "outputs": [
    {
     "data": {
      "image/png": "[encoded data removed]",
      "text/plain": [
       "<Figure size 432x288 with 1 Axes>"
      ]
     },
     "metadata": {
      "needs_background": "light"
     },
     "output_type": "display_data"
    }
   ],
   "source": [
    "# Plotting the loss\n",
    "\n",
    "epochs = np.arange(0, 1001, 10)\n",
    "\n",
    "plt.plot(epochs, losses)\n",
    "plt.title(\"Neural Network Analysis\")\n",
    "plt.ylabel(\"Loss\")\n",
    "plt.xlabel(\"Epochs\")\n",
    "\n",
    "plt.show()"
   ]
  },
  {
   "cell_type": "code",
   "execution_count": 52,
   "metadata": {},
   "outputs": [
    {
     "name": "stdout",
     "output_type": "stream",
     "text": [
      "Emily: 0.968 Female\n",
      "Frank: 0.039 Female\n"
     ]
    }
   ],
   "source": [
    "# Making new predictions\n",
    "\n",
    "def gender(output):\n",
    "    if output > 0.9:\n",
    "        return 'Female'\n",
    "    elif output<0.1:\n",
    "        return 'Male'\n",
    "    else:\n",
    "        return 'Unknown'\n",
    "\n",
    "# Make some predictions\n",
    "emily = np.array([-7, -3]) # 128 pounds, 63 inches\n",
    "frank = np.array([20, 2])  # 155 pounds, 68 inches\n",
    "\n",
    "res1 = network.feedforward(emily)\n",
    "res2 = network.feedforward(frank)\n",
    "\n",
    "print(\"Emily: %.3f\" % res1, gender(res1)) \n",
    "print(\"Frank: %.3f\" % res2, gender(res1))"
   ]
  },
  {
   "cell_type": "markdown",
   "metadata": {},
   "source": [
    "Click \n",
    "<a href=\"https://victorzhou.com/blog/intro-to-neural-networks/\">here</a>\n",
    "to visit the blog which I referred"
   ]
  }
 ],
 "metadata": {
  "kernelspec": {
   "display_name": "Python 3",
   "language": "python",
   "name": "python3"
  },
  "language_info": {
   "codemirror_mode": {
    "name": "ipython",
    "version": 3
   },
   "file_extension": ".py",
   "mimetype": "text/x-python",
   "name": "python",
   "nbconvert_exporter": "python",
   "pygments_lexer": "ipython3",
   "version": "3.7.9"
  }
 },
 "nbformat": 4,
 "nbformat_minor": 4
}
